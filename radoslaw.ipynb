{
 "cells": [
  {
   "cell_type": "code",
   "execution_count": 1,
   "id": "9e67a17e",
   "metadata": {},
   "outputs": [],
   "source": [
    "import networkx as nx\n",
    "import pandas as pd\n",
    "\n",
    "import matplotlib.pyplot as plt\n",
    "import matplotlib as mpl\n",
    "\n",
    "from tqdm import tqdm\n",
    "\n",
    "import pandas as pd\n",
    "import numpy as np\n",
    "\n",
    "from sklearn.model_selection import train_test_split\n",
    "from sklearn.ensemble import RandomForestClassifier\n",
    "from sklearn.metrics import roc_auc_score, f1_score, confusion_matrix, average_precision_score\n",
    "\n",
    "from gensim.models.word2vec import Word2Vec\n",
    "\n",
    "from sklearn.ensemble import GradientBoostingClassifier\n",
    "from sklearn.neural_network import MLPClassifier\n",
    "\n",
    "from sklearn.model_selection import GridSearchCV\n",
    "from sklearn.metrics import accuracy_score, precision_score, recall_score\n"
   ]
  },
  {
   "cell_type": "code",
   "execution_count": 2,
   "id": "8e50777b",
   "metadata": {},
   "outputs": [],
   "source": [
    "#Reading dataset\n",
    "\n",
    "df = pd.read_csv(\"dataset/ia-radoslaw-email.txt\", sep=\" \",names=['src','dst','blank','label','time'])\n",
    "\n"
   ]
  },
  {
   "cell_type": "code",
   "execution_count": 3,
   "id": "33adb389",
   "metadata": {},
   "outputs": [],
   "source": [
    "#Dividing the Dataset in Snapshots\n",
    "\n",
    "df1=df.iloc[0:16586]\n",
    "df2=df.iloc[16586:33171]\n",
    "df3=df.iloc[33171:49756]\n",
    "df4=df.iloc[49756:66341]\n",
    "df5=df.iloc[66341:]\n",
    "df2 = df2.reset_index(drop=True)\n",
    "df3 = df3.reset_index(drop=True)\n",
    "df4 = df4.reset_index(drop=True)\n",
    "df5 = df5.reset_index(drop=True)\n",
    "\n",
    "#print(df1,df2,df3,df4,df5)\n",
    "\n"
   ]
  },
  {
   "cell_type": "code",
   "execution_count": 4,
   "id": "80a14a50",
   "metadata": {},
   "outputs": [],
   "source": [
    "#G\n",
    "G= nx.Graph()\n",
    "\n",
    "src= df['src']\n",
    "dst= df['dst']\n",
    "\n",
    "for i in range (src.size):\n",
    "        s=src[i]\n",
    "        d=dst[i]\n",
    "        G.add_edges_from([(s,d)])\n",
    "\n",
    "G_nodes= list(G.nodes())\n",
    "\n",
    "for i in range(src.size):\n",
    "    if src[i] in G_nodes:\n",
    "        continue\n",
    "    else:\n",
    "        G.add_node(src[i])\n",
    "\n",
    "for i in range(dst.size):\n",
    "    if dst[i] in G_nodes:\n",
    "        continue\n",
    "    else:\n",
    "        G.add_node(dst[i])\n",
    "        \n",
    "G_nodes= list(G.nodes())\n",
    "\n",
    "#nx.draw_networkx(G)"
   ]
  },
  {
   "cell_type": "code",
   "execution_count": 5,
   "id": "0d796eef",
   "metadata": {},
   "outputs": [],
   "source": [
    "#G1\n",
    "G1= nx.Graph()\n",
    "\n",
    "src1= df1['src']\n",
    "dst1= df1['dst']\n",
    "\n",
    "for i in range (src1.size):\n",
    "        s=src1[i]\n",
    "        d=dst1[i]\n",
    "        G1.add_edges_from([(s,d)])\n",
    "\n",
    "G1_nodes= list(G1.nodes())\n",
    "\n",
    "for i in range(src1.size):\n",
    "    if src1[i] in G1_nodes:\n",
    "        continue\n",
    "    else:\n",
    "        G1.add_node(src1[i])\n",
    "\n",
    "for i in range(dst1.size):\n",
    "    if dst1[i] in G1_nodes:\n",
    "        continue\n",
    "    else:\n",
    "        G1.add_node(dst1[i])\n",
    "        \n",
    "G1_nodes= list(G1.nodes())\n",
    "\n",
    "\n",
    "#nx.draw_networkx(G1)"
   ]
  },
  {
   "cell_type": "code",
   "execution_count": 6,
   "id": "0c2efc3f",
   "metadata": {},
   "outputs": [],
   "source": [
    "#G2\n",
    "G2= nx.Graph()\n",
    "\n",
    "src2= df2['src']\n",
    "dst2= df2['dst']\n",
    "\n",
    "for i in range (src2.size):\n",
    "        s=src2[i]\n",
    "        d=dst2[i]\n",
    "        G2.add_edges_from([(s,d)])\n",
    "\n",
    "G2_nodes= list(G2.nodes())\n",
    "\n",
    "for i in range(src2.size):\n",
    "    if src2[i] in G2_nodes:\n",
    "        continue\n",
    "    else:\n",
    "        G2.add_node(src2[i])\n",
    "\n",
    "for i in range(dst2.size):\n",
    "    if dst2[i] in G2_nodes:\n",
    "        continue\n",
    "    else:\n",
    "        G2.add_node(dst2[i])\n",
    "        \n",
    "G2_nodes= list(G2.nodes())\n",
    "\n",
    "#nx.draw_networkx(G2)"
   ]
  },
  {
   "cell_type": "code",
   "execution_count": 7,
   "id": "0c899e88",
   "metadata": {},
   "outputs": [],
   "source": [
    "#G3\n",
    "G3= nx.Graph()\n",
    "\n",
    "src3= df3['src']\n",
    "dst3= df3['dst']\n",
    "\n",
    "for i in range (src3.size):\n",
    "        s=src3[i]\n",
    "        d=dst3[i]\n",
    "        G3.add_edges_from([(s,d)])\n",
    "\n",
    "G3_nodes= list(G3.nodes())\n",
    "\n",
    "for i in range(src3.size):\n",
    "    if src3[i] in G3_nodes:\n",
    "        continue\n",
    "    else:\n",
    "        G3.add_node(src3[i])\n",
    "\n",
    "for i in range(dst3.size):\n",
    "    if dst3[i] in G3_nodes:\n",
    "        continue\n",
    "    else:\n",
    "        G3.add_node(dst3[i])\n",
    "        \n",
    "G3_nodes= list(G3.nodes())\n",
    "\n",
    "#nx.draw_networkx(G3)"
   ]
  },
  {
   "cell_type": "code",
   "execution_count": 8,
   "id": "0883be5d",
   "metadata": {},
   "outputs": [],
   "source": [
    "#G4\n",
    "G4= nx.Graph()\n",
    "\n",
    "src4= df4['src']\n",
    "dst4= df4['dst']\n",
    "\n",
    "for i in range (src4.size):\n",
    "        s=src4[i]\n",
    "        d=dst4[i]\n",
    "        G4.add_edges_from([(s,d)])\n",
    "\n",
    "G4_nodes= list(G4.nodes())\n",
    "\n",
    "for i in range(src4.size):\n",
    "    if src4[i] in G4_nodes:\n",
    "        continue\n",
    "    else:\n",
    "        G4.add_node(src4[i])\n",
    "\n",
    "for i in range(dst4.size):\n",
    "    if dst4[i] in G4_nodes:\n",
    "        continue\n",
    "    else:\n",
    "        G4.add_node(dst4[i])\n",
    "        \n",
    "G4_nodes= list(G4.nodes())\n",
    "\n",
    "#nx.draw_networkx(G4)"
   ]
  },
  {
   "cell_type": "code",
   "execution_count": 9,
   "id": "742e8beb",
   "metadata": {},
   "outputs": [],
   "source": [
    "#G5\n",
    "G5= nx.Graph()\n",
    "\n",
    "src5= df5['src']\n",
    "dst5= df5['dst']\n",
    "\n",
    "for i in range (src5.size):\n",
    "        s=src5[i]\n",
    "        d=dst5[i]\n",
    "        G5.add_edges_from([(s,d)])\n",
    "\n",
    "G5_nodes= list(G5.nodes())\n",
    "\n",
    "for i in range(src5.size):\n",
    "    if src5[i] in G5_nodes:\n",
    "        continue\n",
    "    else:\n",
    "        G5.add_node(src5[i])\n",
    "\n",
    "for i in range(dst5.size):\n",
    "    if dst5[i] in G5_nodes:\n",
    "        continue\n",
    "    else:\n",
    "        G5.add_node(dst5[i])\n",
    "        \n",
    "G5_nodes= list(G5.nodes())\n",
    "\n",
    "\n",
    "#nx.draw_networkx(G5)"
   ]
  },
  {
   "cell_type": "code",
   "execution_count": 10,
   "id": "225619e3",
   "metadata": {},
   "outputs": [],
   "source": [
    "#Adding all nodes to G5\n",
    "\n",
    "for i in range(len(G_nodes)):\n",
    "    if G_nodes[i] in G5_nodes:\n",
    "        continue\n",
    "    else:\n",
    "        G5.add_node(G_nodes[i])\n",
    "        \n",
    "G5_nodes= list(G5.nodes())"
   ]
  },
  {
   "cell_type": "code",
   "execution_count": 11,
   "id": "e267e84a",
   "metadata": {},
   "outputs": [
    {
     "name": "stdout",
     "output_type": "stream",
     "text": [
      "Total nodes: 167\n",
      "Total edges: 1429\n",
      "Training edges (positive): 1001\n",
      "Training edges (negative): 1001\n",
      "Test edges (positive): 428\n",
      "Test edges (negative): 428\n"
     ]
    }
   ],
   "source": [
    "# Preparing Train and Test Datasets\n",
    "\n",
    "from gae.preprocessing import mask_test_edges\n",
    "np.random.seed(0) # make sure train-test split is consistent between notebooks\n",
    "\n",
    "adj_sparse = nx.to_scipy_sparse_matrix(G5)\n",
    "\n",
    "adj_train, train_edges, train_edges_false, val_edges, val_edges_false, \\\n",
    "    test_edges, test_edges_false = mask_test_edges(adj_sparse, test_frac=.3, val_frac=.0, prevent_disconnect = True)\n",
    "\n",
    "print (\"Total nodes:\", adj_sparse.shape[0])\n",
    "print (\"Total edges:\", int(adj_sparse.nnz/2)) # adj is symmetric, so nnz (num non-zero) = 2*num_edges\n",
    "print (\"Training edges (positive):\", len(train_edges))\n",
    "print (\"Training edges (negative):\", len(train_edges_false))\n",
    "print (\"Test edges (positive):\", len(test_edges))\n",
    "print (\"Test edges (negative):\", len(test_edges_false))\n"
   ]
  },
  {
   "cell_type": "code",
   "execution_count": 12,
   "id": "686f61ec",
   "metadata": {},
   "outputs": [],
   "source": [
    "#Adding all nodes to snapshot\n",
    "\n",
    "#G1\n",
    "for i in range(len(G_nodes)):\n",
    "    if G_nodes[i] in G1_nodes:\n",
    "        continue\n",
    "    else:\n",
    "        G1.add_node(G_nodes[i])\n",
    "        \n",
    "G1_nodes= list(G1.nodes())\n",
    "\n",
    "#G2\n",
    "for i in range(len(G_nodes)):\n",
    "    if G_nodes[i] in G2_nodes:\n",
    "        continue\n",
    "    else:\n",
    "        G2.add_node(G_nodes[i])\n",
    "        \n",
    "G2_nodes= list(G2.nodes())\n",
    "\n",
    "#G3\n",
    "for i in range(len(G_nodes)):\n",
    "    if G_nodes[i] in G3_nodes:\n",
    "        continue\n",
    "    else:\n",
    "        G3.add_node(G_nodes[i])\n",
    "        \n",
    "G3_nodes= list(G3.nodes())\n",
    "\n",
    "#G4\n",
    "for i in range(len(G_nodes)):\n",
    "    if G_nodes[i] in G4_nodes:\n",
    "        continue\n",
    "    else:\n",
    "        G4.add_node(G_nodes[i])\n",
    "        \n",
    "G4_nodes= list(G4.nodes())"
   ]
  },
  {
   "cell_type": "code",
   "execution_count": 13,
   "id": "3648e403",
   "metadata": {},
   "outputs": [],
   "source": [
    "# #Removing test edges from Snapshots\n",
    "\n",
    "#G1\n",
    "\n",
    "G1_edges=G1.edges()\n",
    "\n",
    "for i in range(len(test_edges)):\n",
    "    if test_edges[i] in G1_edges:\n",
    "        G1.remove_edge(*test_edges[i])\n",
    "\n",
    "\n",
    " #G2\n",
    "    \n",
    "G2_edges=G2.edges()\n",
    "\n",
    "\n",
    "for i in range(len(test_edges)):\n",
    "    if test_edges[i] in G2_edges:\n",
    "        G2.remove_edge(*test_edges[i])\n",
    "\n",
    "\n",
    "#G3\n",
    "\n",
    "G3_edges=G3.edges()\n",
    "\n",
    "\n",
    "\n",
    "for i in range(len(test_edges)):\n",
    "    if test_edges[i] in G3_edges:\n",
    "        G3.remove_edge(*test_edges[i])\n",
    "\n",
    "#G4\n",
    "\n",
    "G4_edges=G4.edges()\n",
    "\n",
    "for i in range(len(test_edges)):\n",
    "    if test_edges[i] in G4_edges:\n",
    "        G4.remove_edge(*test_edges[i])\n",
    "        "
   ]
  },
  {
   "cell_type": "code",
   "execution_count": 14,
   "id": "a0b5a74d",
   "metadata": {},
   "outputs": [
    {
     "data": {
      "application/vnd.jupyter.widget-view+json": {
       "model_id": "2804bf444cd44e569e5df5a5146e556d",
       "version_major": 2,
       "version_minor": 0
      },
      "text/plain": [
       "Computing transition probabilities:   0%|          | 0/167 [00:00<?, ?it/s]"
      ]
     },
     "metadata": {},
     "output_type": "display_data"
    },
    {
     "name": "stderr",
     "output_type": "stream",
     "text": [
      "Generating walks (CPU: 1): 100%|███████████████████████████████████████████████████████| 12/12 [00:03<00:00,  3.85it/s]\n"
     ]
    },
    {
     "data": {
      "application/vnd.jupyter.widget-view+json": {
       "model_id": "c0c16426c5584426999e7f1f4131f142",
       "version_major": 2,
       "version_minor": 0
      },
      "text/plain": [
       "Computing transition probabilities:   0%|          | 0/167 [00:00<?, ?it/s]"
      ]
     },
     "metadata": {},
     "output_type": "display_data"
    },
    {
     "name": "stderr",
     "output_type": "stream",
     "text": [
      "Generating walks (CPU: 1): 100%|███████████████████████████████████████████████████████| 12/12 [00:02<00:00,  4.34it/s]\n"
     ]
    },
    {
     "data": {
      "application/vnd.jupyter.widget-view+json": {
       "model_id": "d5d0c77acaaa4d0eae118f37e9ab1b3d",
       "version_major": 2,
       "version_minor": 0
      },
      "text/plain": [
       "Computing transition probabilities:   0%|          | 0/167 [00:00<?, ?it/s]"
      ]
     },
     "metadata": {},
     "output_type": "display_data"
    },
    {
     "name": "stderr",
     "output_type": "stream",
     "text": [
      "Generating walks (CPU: 1): 100%|███████████████████████████████████████████████████████| 12/12 [00:02<00:00,  5.34it/s]\n"
     ]
    },
    {
     "data": {
      "application/vnd.jupyter.widget-view+json": {
       "model_id": "46550c43b9c04923b68c6935e45709d4",
       "version_major": 2,
       "version_minor": 0
      },
      "text/plain": [
       "Computing transition probabilities:   0%|          | 0/167 [00:00<?, ?it/s]"
      ]
     },
     "metadata": {},
     "output_type": "display_data"
    },
    {
     "name": "stderr",
     "output_type": "stream",
     "text": [
      "Generating walks (CPU: 1): 100%|███████████████████████████████████████████████████████| 12/12 [00:01<00:00,  6.08it/s]\n"
     ]
    }
   ],
   "source": [
    "#Getting node embeddings\n",
    "\n",
    "from node2vec import Node2Vec\n",
    "\n",
    "#G1\n",
    "node2vec_1 = Node2Vec(G1, dimensions=128, walk_length=80, num_walks=12)\n",
    "n2v_model_1 = node2vec_1.fit(window=10, min_count=1)\n",
    "\n",
    "#G2\n",
    "node2vec_2 = Node2Vec(G2, dimensions=128, walk_length=80, num_walks=12)\n",
    "n2v_model_2 = node2vec_2.fit(window=10, min_count=1)\n",
    "\n",
    "#G3\n",
    "node2vec_3 = Node2Vec(G3, dimensions=128, walk_length=80, num_walks=12)\n",
    "n2v_model_3 = node2vec_3.fit(window=10, min_count=1)\n",
    "\n",
    "#G4\n",
    "node2vec_4 = Node2Vec(G4, dimensions=128, walk_length=80, num_walks=12)\n",
    "n2v_model_4 = node2vec_4.fit(window=10, min_count=1)"
   ]
  },
  {
   "cell_type": "code",
   "execution_count": 15,
   "id": "f9bcad3f",
   "metadata": {},
   "outputs": [],
   "source": [
    "#Getting edge embeddings\n",
    "\n",
    "def get_edge_embeddings(edge_list,n2v_model):\n",
    "    embs = []\n",
    "    for edge in edge_list:\n",
    "        node1 = edge[0]\n",
    "        node2 = edge[1]\n",
    "        emb1 = n2v_model.wv[node1]\n",
    "        emb2 = n2v_model.wv[node2]\n",
    "        edge_emb = np.add(emb1, emb2)\n",
    "        embs.append(edge_emb)\n",
    "    embs = np.array(embs)\n",
    "    return embs\n"
   ]
  },
  {
   "cell_type": "code",
   "execution_count": 16,
   "id": "cf946518",
   "metadata": {},
   "outputs": [],
   "source": [
    "#Train dataset\n",
    "\n",
    "#Positive\n",
    "\n",
    "pos_train_embs_1= get_edge_embeddings(train_edges,n2v_model_1)\n",
    "pos_train_embs_2= get_edge_embeddings(train_edges,n2v_model_2)\n",
    "pos_train_embs_3= get_edge_embeddings(train_edges,n2v_model_3)\n",
    "pos_train_embs_4= get_edge_embeddings(train_edges,n2v_model_4)\n",
    "\n",
    "#Negative\n",
    "\n",
    "neg_train_embs_1= get_edge_embeddings(train_edges_false,n2v_model_1)\n",
    "neg_train_embs_2= get_edge_embeddings(train_edges_false,n2v_model_2)\n",
    "neg_train_embs_3= get_edge_embeddings(train_edges_false,n2v_model_3)\n",
    "neg_train_embs_4= get_edge_embeddings(train_edges_false,n2v_model_4)"
   ]
  },
  {
   "cell_type": "code",
   "execution_count": 17,
   "id": "aed3b883",
   "metadata": {},
   "outputs": [],
   "source": [
    "#Test dataset\n",
    "\n",
    "#Positive\n",
    "\n",
    "pos_test_embs_1= get_edge_embeddings(test_edges,n2v_model_1)\n",
    "pos_test_embs_2= get_edge_embeddings(test_edges,n2v_model_2)\n",
    "pos_test_embs_3= get_edge_embeddings(test_edges,n2v_model_3)\n",
    "pos_test_embs_4= get_edge_embeddings(test_edges,n2v_model_4)\n",
    "\n",
    "#Negative\n",
    "\n",
    "neg_test_embs_1= get_edge_embeddings(test_edges_false,n2v_model_1)\n",
    "neg_test_embs_2= get_edge_embeddings(test_edges_false,n2v_model_2)\n",
    "neg_test_embs_3= get_edge_embeddings(test_edges_false,n2v_model_3)\n",
    "neg_test_embs_4= get_edge_embeddings(test_edges_false,n2v_model_4)"
   ]
  },
  {
   "cell_type": "code",
   "execution_count": 18,
   "id": "16917c24",
   "metadata": {},
   "outputs": [],
   "source": [
    "#Train Dataset\n",
    "train_edges_emb_1=np.hstack([pos_train_embs_1,pos_train_embs_2,pos_train_embs_3,pos_train_embs_4])\n",
    "train_edges_label_1=np.ones(len(train_edges))\n",
    "train_edges_emb_2=np.hstack([neg_train_embs_1,neg_train_embs_2,neg_train_embs_3,neg_train_embs_4])\n",
    "train_edges_label_2=np.zeros(len(train_edges_false))\n",
    "\n",
    "train_edges_label= np.concatenate([train_edges_label_1,train_edges_label_2])\n",
    "train_edges_emb= np.concatenate([train_edges_emb_1,train_edges_emb_2])"
   ]
  },
  {
   "cell_type": "code",
   "execution_count": 19,
   "id": "6051b2d7",
   "metadata": {},
   "outputs": [],
   "source": [
    "#Test Dataset\n",
    "test_edges_emb_1=np.hstack([pos_test_embs_1,pos_test_embs_2,pos_test_embs_3,pos_test_embs_4])\n",
    "test_edges_label_1=np.ones(len(test_edges))\n",
    "test_edges_emb_2=np.hstack([neg_test_embs_1,neg_test_embs_2,neg_test_embs_3,neg_test_embs_4])\n",
    "test_edges_label_2=np.zeros(len(test_edges_false))\n",
    "\n",
    "test_edges_label= np.concatenate([test_edges_label_1,test_edges_label_2])\n",
    "test_edges_emb= np.concatenate([test_edges_emb_1,test_edges_emb_2])"
   ]
  },
  {
   "cell_type": "code",
   "execution_count": 20,
   "id": "5cd4b540",
   "metadata": {},
   "outputs": [
    {
     "name": "stdout",
     "output_type": "stream",
     "text": [
      "0.8665713162721635\n",
      "0.8503349692303975\n"
     ]
    }
   ],
   "source": [
    "# Train logistic regression classifier on train-set edge embeddings\n",
    "from sklearn.linear_model import LogisticRegression\n",
    "edge_classifier = LogisticRegression(max_iter=3000,random_state=0)\n",
    "edge_classifier.fit(train_edges_emb, train_edges_label)\n",
    "\n",
    "\n",
    "test_preds = edge_classifier.predict_proba(test_edges_emb)[:, 1]\n",
    "test_roc = roc_auc_score(test_edges_label, test_preds)\n",
    "test_ap = average_precision_score(test_edges_label, test_preds)\n",
    "print(test_roc)\n",
    "print(test_ap)"
   ]
  },
  {
   "cell_type": "code",
   "execution_count": 21,
   "id": "17b49a4c",
   "metadata": {},
   "outputs": [
    {
     "name": "stdout",
     "output_type": "stream",
     "text": [
      "0.8492226395318367\n",
      "0.8126444382353787\n"
     ]
    }
   ],
   "source": [
    "# Train Random Forest classifier on train-set edge embeddings\n",
    "edge_classifier_1= RandomForestClassifier(n_estimators = 50)\n",
    "edge_classifier_1.fit(train_edges_emb, train_edges_label)\n",
    "\n",
    "test_preds_1 = edge_classifier_1.predict_proba(test_edges_emb)[:, 1]\n",
    "test_roc_1 = roc_auc_score(test_edges_label, test_preds_1)\n",
    "test_ap_1 = average_precision_score(test_edges_label, test_preds_1)\n",
    "\n",
    "print(test_roc_1)\n",
    "print(test_ap_1)"
   ]
  },
  {
   "cell_type": "code",
   "execution_count": 22,
   "id": "35e356d0",
   "metadata": {},
   "outputs": [
    {
     "name": "stdout",
     "output_type": "stream",
     "text": [
      "0.8472846973534807\n",
      "0.8226956489747939\n"
     ]
    }
   ],
   "source": [
    "# Train Gradient Boosting classifier on train-set edge embeddings\n",
    "from sklearn.ensemble import GradientBoostingClassifier\n",
    "edge_classifier_2 = GradientBoostingClassifier(n_estimators=50, learning_rate=0.5, max_depth=8, random_state=0).fit(train_edges_emb, train_edges_label)\n",
    "edge_classifier_2 = GradientBoostingClassifier(n_estimators=50, learning_rate=0.5, max_depth=8, random_state=0).fit(train_edges_emb, train_edges_label)\n",
    "\n",
    "test_preds_2 = edge_classifier_2.predict_proba(test_edges_emb)[:, 1]\n",
    "test_roc_2 = roc_auc_score(test_edges_label, test_preds_2)\n",
    "test_ap_2 = average_precision_score(test_edges_label, test_preds_2)\n",
    "\n",
    "print(test_roc_2)\n",
    "print(test_ap_2)"
   ]
  },
  {
   "cell_type": "code",
   "execution_count": null,
   "id": "60c1e13c",
   "metadata": {},
   "outputs": [],
   "source": []
  },
  {
   "cell_type": "code",
   "execution_count": null,
   "id": "ed537d0c",
   "metadata": {},
   "outputs": [],
   "source": []
  }
 ],
 "metadata": {
  "kernelspec": {
   "display_name": "Python 3 (ipykernel)",
   "language": "python",
   "name": "python3"
  },
  "language_info": {
   "codemirror_mode": {
    "name": "ipython",
    "version": 3
   },
   "file_extension": ".py",
   "mimetype": "text/x-python",
   "name": "python",
   "nbconvert_exporter": "python",
   "pygments_lexer": "ipython3",
   "version": "3.9.7"
  }
 },
 "nbformat": 4,
 "nbformat_minor": 5
}
